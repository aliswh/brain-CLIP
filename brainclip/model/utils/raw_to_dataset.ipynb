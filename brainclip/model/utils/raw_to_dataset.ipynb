{
 "cells": [
  {
   "attachments": {},
   "cell_type": "markdown",
   "metadata": {},
   "source": [
    "Sample images and reports from `raw/` into a train-valid-test split, ready for the data loader.\n"
   ]
  },
  {
   "cell_type": "code",
   "execution_count": null,
   "metadata": {},
   "outputs": [],
   "source": [
    "import pandas as pd\n",
    "from brainclip.config import *\n",
    "\n",
    "parsed_reports_df = pd.read_csv(parsed_reports_ext)\n",
    "parsed_reports_df"
   ]
  },
  {
   "cell_type": "code",
   "execution_count": null,
   "metadata": {},
   "outputs": [],
   "source": [
    "infarct_only = parsed_reports_df.copy()\n",
    "infarct_only = infarct_only.replace({\"tumor\":\"others\",\"hemorrhage\":\"others\"})\n",
    "\n",
    "infarct_only = infarct_only[infarct_only[\"class\"].isin([\"infarct\",\"normal\"])]\n",
    "\n",
    "df_in_use = parsed_reports_df # infarct_only"
   ]
  },
  {
   "cell_type": "code",
   "execution_count": null,
   "metadata": {},
   "outputs": [],
   "source": [
    "from sklearn.model_selection import train_test_split\n",
    "\n",
    "X, y = df_in_use[[\"ID\",\"StudyInstanceUID\",\"ParsedImpressions\"]], df_in_use[\"class\"]\n",
    "X_train, X_test, y_train, y_test = train_test_split(X, y, stratify=y, test_size=0.1, random_state=42)\n",
    "X_train, X_valid, y_train, y_valid = train_test_split(X_train, y_train, stratify=y_train, test_size=0.1, random_state=42)\n",
    "\n",
    "# do one split only (train, valid)\n",
    "\n",
    "#X_valid = pd.concat([X_valid,X_test])\n",
    "#y_valid = pd.concat([y_valid,y_test])"
   ]
  },
  {
   "cell_type": "code",
   "execution_count": null,
   "metadata": {},
   "outputs": [],
   "source": [
    "import numpy as np\n",
    "\n",
    "len(y_train), np.unique(y_train, return_counts=True), np.unique(y_valid, return_counts=True), np.unique(y_test, return_counts=True)"
   ]
  },
  {
   "cell_type": "code",
   "execution_count": null,
   "metadata": {},
   "outputs": [],
   "source": [
    "y_test, y_valid"
   ]
  },
  {
   "cell_type": "code",
   "execution_count": null,
   "metadata": {},
   "outputs": [],
   "source": [
    "import os\n",
    "import json\n",
    "import shutil\n",
    "from brainclip.model.utils.processing import preprocess_image\n",
    "from brainclip.model.utils.file_utils import concat_sequences\n",
    "\n",
    "sequences = [\"T2S_0.nii.gz\", \"T2_FLAIR_0.nii.gz\", \"DWI_B1000_0.nii.gz\" ]\n",
    "#sequences = sequences[0]\n",
    "access_dir = lambda filename: os.path.join(raw_images_ext, filename, \"Nifti\")\n",
    "\n",
    "moved_images = []\n",
    "all_images = list(os.listdir(raw_images_ext))\n",
    "\n",
    "def move_images_and_text(X, y, target_folder):\n",
    "    data_dict = {}\n",
    "\n",
    "    for n, (idx, row) in enumerate(X.iterrows()):\n",
    "        img_id = row[\"ID\"]\n",
    "        img_name, txt  = row[\"StudyInstanceUID\"], row[\"ParsedImpressions\"]\n",
    "        patient_folder = access_dir(img_name)  \n",
    "        sequences_list = []      \n",
    "\n",
    "        try: \n",
    "            all_seq = [seq for seq in os.listdir(patient_folder)] \n",
    "            for seq in sequences:\n",
    "                match_seq = [s for s in all_seq if s.split(\"_\",1)[1]==seq][0]\n",
    "                print(os.path.join(patient_folder, match_seq))\n",
    "                sequences_list.append(os.path.join(patient_folder, match_seq))\n",
    "\n",
    "            target_path = os.path.join(data_folder, target_folder, f\"image_{img_id}.nii.gz\")\n",
    "            concat_sequences(sequences_list, target_path)\n",
    "            print(target_path)\n",
    "            # append label\n",
    "            data_dict[n] = {\n",
    "                \"name\":target_path, \n",
    "                \"report\":txt, \n",
    "                \"label\":y.loc[idx]\n",
    "            }\n",
    "\n",
    "        except FileNotFoundError: \n",
    "            print(f\"{target_folder}: Couldn't find {patient_folder}, {img_name}\")\n",
    "            display(X[X[\"StudyInstanceUID\"] == img_name])\n",
    "\n",
    "    with open(f\"{data_folder}{target_folder}.json\", \"w\") as f:json.dump(data_dict, f)\n",
    "        "
   ]
  },
  {
   "cell_type": "code",
   "execution_count": null,
   "metadata": {},
   "outputs": [],
   "source": [
    "move_images_and_text(X_train, y_train, \"train\")"
   ]
  },
  {
   "cell_type": "code",
   "execution_count": null,
   "metadata": {},
   "outputs": [],
   "source": [
    "move_images_and_text(X_valid, y_valid, \"valid\")"
   ]
  },
  {
   "cell_type": "code",
   "execution_count": null,
   "metadata": {},
   "outputs": [],
   "source": [
    "move_images_and_text(X_test, y_test, \"test\")"
   ]
  },
  {
   "cell_type": "code",
   "execution_count": null,
   "metadata": {},
   "outputs": [],
   "source": []
  }
 ],
 "metadata": {
  "kernelspec": {
   "display_name": "torchenv",
   "language": "python",
   "name": "python3"
  },
  "language_info": {
   "codemirror_mode": {
    "name": "ipython",
    "version": 3
   },
   "file_extension": ".py",
   "mimetype": "text/x-python",
   "name": "python",
   "nbconvert_exporter": "python",
   "pygments_lexer": "ipython3",
   "version": "3.11.0"
  },
  "orig_nbformat": 4
 },
 "nbformat": 4,
 "nbformat_minor": 2
}
